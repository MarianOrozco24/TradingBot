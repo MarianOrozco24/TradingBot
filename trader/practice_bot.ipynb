{
 "cells": [
  {
   "cell_type": "code",
   "execution_count": 1,
   "metadata": {},
   "outputs": [],
   "source": [
    "import MetaTrader5 as mt5\n",
    "import time\n",
    "import pandas as pd\n",
    "from IPython.display import clear_output\n",
    "\n"
   ]
  },
  {
   "cell_type": "code",
   "execution_count": 2,
   "metadata": {},
   "outputs": [
    {
     "name": "stdout",
     "output_type": "stream",
     "text": [
      "conexion exitosa\n"
     ]
    }
   ],
   "source": [
    "# Nos conectamos con MTD5\n",
    "if not mt5.initialize():\n",
    "    print(\"error en la conexion\")\n",
    "    exit()\n",
    "else:\n",
    "    print(\"conexion exitosa\")"
   ]
  },
  {
   "cell_type": "code",
   "execution_count": 3,
   "metadata": {},
   "outputs": [],
   "source": [
    "# Función para enviar órdenes de compra\n",
    "def buy(symbol, volume):\n",
    "    try:\n",
    "        order_type = mt5.ORDER_TYPE_BUY\n",
    "        request = {\n",
    "            \"action\": mt5.TRADE_ACTION_DEAL,\n",
    "            \"symbol\": symbol,\n",
    "            \"volume\": volume,\n",
    "            \"type\": order_type,\n",
    "            \"price\": mt5.symbol_info_tick(symbol).ask,\n",
    "            \"sl\": 0,\n",
    "            \"tp\": 0,\n",
    "            \"deviation\": 10,\n",
    "            \"magic\": 123456,\n",
    "            \"comment\": \"Buy order\",\n",
    "            \"type_time\": mt5.ORDER_TIME_GTC,\n",
    "            \"type_filling\": mt5.ORDER_FILLING_IOC,\n",
    "        }\n",
    "        result = mt5.order_send(request)\n",
    "        return result\n",
    "    except Exception as buy:\n",
    "        print(buy)"
   ]
  },
  {
   "cell_type": "code",
   "execution_count": 4,
   "metadata": {},
   "outputs": [],
   "source": [
    "# Función para enviar órdenes de venta\n",
    "def sell(symbol, volume):\n",
    "    try:\n",
    "        order_type = mt5.ORDER_TYPE_SELL\n",
    "        request = {\n",
    "            \"action\": mt5.TRADE_ACTION_DEAL,\n",
    "            \"symbol\": symbol,\n",
    "            \"volume\": volume,\n",
    "            \"type\": order_type,\n",
    "            \"price\": mt5.symbol_info_tick(symbol).bid,\n",
    "            \"sl\": 0,\n",
    "            \"tp\": 0,\n",
    "            \"deviation\": 10,\n",
    "            \"magic\": 123456,\n",
    "            \"comment\": \"Sell order\",\n",
    "            \"type_time\": mt5.ORDER_TIME_GTC,\n",
    "            \"type_filling\": mt5.ORDER_FILLING_IOC,\n",
    "        }\n",
    "        result = mt5.order_send(request)\n",
    "        return result\n",
    "    except Exception as sell:\n",
    "        print(f\"Excepcion en la venta de futuros: {sell}\")"
   ]
  },
  {
   "cell_type": "code",
   "execution_count": 5,
   "metadata": {},
   "outputs": [],
   "source": [
    "\n",
    "symbol = \"EURUSD\"\n",
    "volume = 0.1  # Ajusta el volumen según tus necesidades\n",
    "\n",
    "previous_signal = None  # Variable para almacenar el estado anterior\n"
   ]
  },
  {
   "cell_type": "code",
   "execution_count": null,
   "metadata": {},
   "outputs": [
    {
     "name": "stdout",
     "output_type": "stream",
     "text": [
      "medida 14 1.0834292857142855\n",
      "Medida 50 1.0833186000000001\n"
     ]
    }
   ],
   "source": [
    "while True:\n",
    "    # Obtiene los datos en tiempo real\n",
    "    rates = mt5.copy_rates_from_pos(symbol, mt5.TIMEFRAME_M1, 0, 1000)\n",
    "    if rates is None:\n",
    "        print(\"Error al obtener datos.\")\n",
    "        break\n",
    "    \n",
    "    # Convierte los datos a un DataFrame\n",
    "    data = pd.DataFrame(rates)\n",
    "    data['time'] = pd.to_datetime(data['time'], unit='s')\n",
    "    data.set_index('time', inplace=True)\n",
    "\n",
    "    # Calcula las medias móviles\n",
    "    data['SMA_14'] = data['close'].rolling(window=14).mean()\n",
    "    data['SMA_50'] = data['close'].rolling(window=50).mean()\n",
    "\n",
    "\n",
    "    # Extraemos los datos para verificar \n",
    "    # data.to_excel(\"probando.xlsx\", engine=\"openpyxl\")\n",
    "\n",
    "    # Obtiene las últimas medias móviles\n",
    "    last_sma_14 = data['SMA_14'].iloc[-1]\n",
    "    last_sma_50 = data['SMA_50'].iloc[-1]\n",
    "\n",
    "    # imprimimos los datos obtenidos\n",
    "    print(\"medida 14\", last_sma_14)\n",
    "\n",
    "    print(\"Medida 50\", last_sma_50)\n",
    "    # Determina el cruce\n",
    "    if previous_signal is None:\n",
    "        previous_signal = 'none'\n",
    "    \n",
    "    if last_sma_14 > last_sma_50 and previous_signal != 'buy':\n",
    "        print(\"Cruce de compra detectado. Realizando compra...\")\n",
    "        buy(symbol, volume)\n",
    "        previous_signal = 'buy'\n",
    "\n",
    "        \n",
    "    elif last_sma_14 < last_sma_50 and previous_signal != 'sell':\n",
    "        print(\"Cruce de venta detectado. Realizando venta...\")\n",
    "        sell(symbol, volume)\n",
    "        previous_signal = 'sell'\n",
    "\n",
    "    time.sleep(2)\n",
    "        # obtenemos el saldo actua\n",
    "    print(\"\\nEn transaccion\")\n",
    "\n",
    "    # tiempo de espera antes de volver a comprobar\n",
    "    time.sleep(2)\n",
    "    clear_output(wait=True)\n",
    "\n",
    "\n",
    "# Cierra la conexión con MetaTrader 5\n",
    "mt5.shutdown()\n"
   ]
  }
 ],
 "metadata": {
  "kernelspec": {
   "display_name": "Python 3",
   "language": "python",
   "name": "python3"
  },
  "language_info": {
   "codemirror_mode": {
    "name": "ipython",
    "version": 3
   },
   "file_extension": ".py",
   "mimetype": "text/x-python",
   "name": "python",
   "nbconvert_exporter": "python",
   "pygments_lexer": "ipython3",
   "version": "3.12.5"
  }
 },
 "nbformat": 4,
 "nbformat_minor": 2
}
