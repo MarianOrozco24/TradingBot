{
 "cells": [
  {
   "cell_type": "code",
   "execution_count": 2,
   "metadata": {},
   "outputs": [],
   "source": [
    "import MetaTrader5 as mt5\n",
    "import time\n",
    "import pandas as pd\n",
    "from IPython.display import clear_output\n",
    "\n"
   ]
  },
  {
   "cell_type": "code",
   "execution_count": 3,
   "metadata": {},
   "outputs": [
    {
     "name": "stdout",
     "output_type": "stream",
     "text": [
      "conexion exitosa\n",
      "AccountInfo(login=87779686, trade_mode=0, leverage=100, limit_orders=200, margin_so_mode=0, trade_allowed=True, trade_expert=True, margin_mode=2, currency_digits=2, fifo_close=False, balance=99999.63, credit=0.0, profit=0.0, equity=99999.63, margin=0.0, margin_free=99999.63, margin_level=0.0, margin_so_call=50.0, margin_so_so=30.0, margin_initial=0.0, margin_maintenance=0.0, assets=0.0, liabilities=0.0, commission_blocked=0.0, name='Mariano Orozco', server='MetaQuotes-Demo', currency='USD', company='MetaQuotes Ltd.')\n"
     ]
    }
   ],
   "source": [
    "# Nos conectamos con MTD5\n",
    "if not mt5.initialize():\n",
    "    print(\"error en la conexion\")\n",
    "    exit()\n",
    "else:\n",
    "    print(\"conexion exitosa\")\n",
    "    print(mt5.account_info())"
   ]
  },
  {
   "cell_type": "code",
   "execution_count": 6,
   "metadata": {},
   "outputs": [
    {
     "name": "stdout",
     "output_type": "stream",
     "text": [
      "OrderSendResult(retcode=10027, deal=0, order=0, volume=0.0, price=0.0, bid=0.0, ask=0.0, comment='AutoTrading disabled by client', request_id=0, retcode_external=0, request=TradeRequest(action=1, magic=89818181, order=0, symbol='EURUSD', volume=0.1, price=1.08821, stoplimit=0.0, sl=0.16323149999999997, tp=10.8821, deviation=10, type=0, type_filling=1, type_time=0, expiration=0, comment='Buy order', position=0, position_by=0))\n"
     ]
    }
   ],
   "source": [
    "# Función para enviar órdenes de compra\n",
    "def buy(symbol, volume):\n",
    "    try:\n",
    "        sl = mt5.symbol_info_tick(symbol).ask * 0.15 \n",
    "        tp = mt5.symbol_info_tick(symbol).ask * 10\n",
    "        order_type = mt5.ORDER_TYPE_BUY\n",
    "        request = {\n",
    "            \"action\": mt5.TRADE_ACTION_DEAL,\n",
    "            \"symbol\": symbol,\n",
    "            \"volume\": volume,\n",
    "            \"type\": order_type,\n",
    "            \"price\": mt5.symbol_info_tick(symbol).ask,\n",
    "            \"sl\": sl,\n",
    "            \"tp\": tp,\n",
    "            \"deviation\": 10,\n",
    "            \"magic\": 89818181,\n",
    "            \"comment\": \"Buy order\",\n",
    "            \"type_time\": mt5.ORDER_TIME_GTC,\n",
    "            \"type_filling\": mt5.ORDER_FILLING_IOC,\n",
    "        }\n",
    "        result = mt5.order_send(request)\n",
    "        return result\n",
    "    except Exception as buy:\n",
    "        print(buy)\n",
    "\n",
    "\n",
    "# Probaando acciones de compra\n",
    "symbol = \"EURUSD\"\n",
    "volume = 0.1  \n",
    "\n",
    "result = buy(symbol, volume)\n",
    "if result is None:\n",
    "    print(\"Error en la compra\")\n",
    "else:\n",
    "    print(result)\n",
    "\n"
   ]
  },
  {
   "cell_type": "code",
   "execution_count": null,
   "metadata": {},
   "outputs": [],
   "source": [
    "def finalize_order():\n",
    "    # Obtener todas las posiciones abiertas\n",
    "    positions = mt5.positions_get()\n",
    "    print(position)\n",
    "    if positions is None:\n",
    "        print(\"No hay posiciones abiertas.\")\n",
    "    else:\n",
    "        for position in positions:\n",
    "            # Imprimir información de cada posición\n",
    "            print(f\"Símbolo: {position.symbol}, Volumen: {position.volume}, Tipo: {'Compra' if position.type == 0 else 'Venta'}\")\n",
    "\n",
    "            # Si deseas cerrar una posición de venta\n",
    "            if position.type == 1:  # 1 es para ventas\n",
    "                request = {\n",
    "                    \"action\": mt5.TRADE_ACTION_DEAL,\n",
    "                    \"symbol\": position.symbol,\n",
    "                    \"volume\": position.volume,\n",
    "                    \"type\": mt5.ORDER_TYPE_BUY,  # Para cerrar una venta, envías una compra\n",
    "                    \"position\": position.ticket,  # Ticket de la posición que deseas cerrar\n",
    "                    \"deviation\": 10,\n",
    "                    \"magic\": 123456,\n",
    "                    \"comment\": \"Cierre de operación\",\n",
    "                    \"type_time\": mt5.ORDER_TIME_GTC,\n",
    "                    \"type_filling\": mt5.ORDER_FILLING_IOC,\n",
    "                }\n",
    "\n",
    "                result = mt5.order_send(request)\n",
    "\n",
    "                if result is None:\n",
    "                    print(\"Error al enviar la orden de cierre:\", mt5.last_error())\n",
    "                else:\n",
    "                    print(\"Operación cerrada con éxito:\", result)\n"
   ]
  },
  {
   "cell_type": "code",
   "execution_count": 11,
   "metadata": {},
   "outputs": [],
   "source": [
    "\n",
    "symbol = \"EURUSD\"\n",
    "volume = 0.1  # Ajusta el volumen según tus necesidades\n",
    "\n",
    "previous_signal = None  # Variable para almacenar el estado anterior\n"
   ]
  },
  {
   "cell_type": "code",
   "execution_count": null,
   "metadata": {},
   "outputs": [
    {
     "name": "stdout",
     "output_type": "stream",
     "text": [
      "medida 14 1.0891457142857142\n",
      "Medida 50 1.0885463999999998\n"
     ]
    }
   ],
   "source": [
    "while True:\n",
    "    # Obtiene los datos en tiempo real\n",
    "    rates = mt5.copy_rates_from_pos(symbol, mt5.TIMEFRAME_M30, 0, 1000)\n",
    "    if rates is None:\n",
    "        print(\"Error al obtener datos.\")\n",
    "        break\n",
    "    \n",
    "    # Convierte los datos a un DataFrame\n",
    "    data = pd.DataFrame(rates)\n",
    "    data['time'] = pd.to_datetime(data['time'], unit='s')\n",
    "    data.set_index('time', inplace=True)\n",
    "\n",
    "    # Calcula las medias móviles\n",
    "    data['SMA_14'] = data['close'].rolling(window=14).mean()\n",
    "    data['SMA_50'] = data['close'].rolling(window=50).mean()\n",
    "\n",
    "\n",
    "    # Extraemos los datos para verificar \n",
    "    # data.to_excel(\"probando.xlsx\", engine=\"openpyxl\")\n",
    "\n",
    "    # Obtiene las últimas medias móviles\n",
    "    last_sma_14 = data['SMA_14'].iloc[-1]\n",
    "    last_sma_50 = data['SMA_50'].iloc[-1]\n",
    "\n",
    "    # imprimimos los datos obtenidos\n",
    "    print(\"medida 14\", last_sma_14)\n",
    "\n",
    "    print(\"Medida 50\", last_sma_50)\n",
    "    # Determina el cruce\n",
    "    \n",
    "    \n",
    "    \n",
    "    ######  Apenas ejecutemos el script corroborar si el precio esta en posicion de compra o venta\n",
    "    # en el caso de que este en posicion de compra no tocar nada y en el caso de que este en posicion\n",
    "    # de venta cambiar el valor del previous_signal a \"sell\" para que no realice ninguna venta\n",
    "    if previous_signal is None:\n",
    "        previous_signal = 'none'\n",
    "    \n",
    "    if last_sma_14 > last_sma_50 and previous_signal != 'buy':\n",
    "        print(\"Cruce de compra detectado. Realizando compra...\")\n",
    "        buy(symbol, volume)\n",
    "        previous_signal = 'buy'\n",
    "\n",
    "        \n",
    "    elif last_sma_14 < last_sma_50 and previous_signal != 'sell':\n",
    "        print(\"Finalizando compras\")\n",
    "        finalize_order()\n",
    "        previous_signal = 'sell'\n",
    "\n",
    "    time.sleep(2)\n",
    "        # obtenemos el saldo actua\n",
    "    print(\"\\nEn transaccion\")\n",
    "\n",
    "    # tiempo de espera antes de volver a comprobar\n",
    "    time.sleep(10)\n",
    "    clear_output(wait=True)\n",
    "\n",
    "\n",
    "# Cierra la conexión con MetaTrader 5\n",
    "mt5.shutdown()\n"
   ]
  }
 ],
 "metadata": {
  "kernelspec": {
   "display_name": "Python 3",
   "language": "python",
   "name": "python3"
  },
  "language_info": {
   "codemirror_mode": {
    "name": "ipython",
    "version": 3
   },
   "file_extension": ".py",
   "mimetype": "text/x-python",
   "name": "python",
   "nbconvert_exporter": "python",
   "pygments_lexer": "ipython3",
   "version": "3.12.5"
  }
 },
 "nbformat": 4,
 "nbformat_minor": 2
}
