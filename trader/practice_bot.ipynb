{
 "cells": [
  {
   "cell_type": "code",
   "execution_count": 2,
   "metadata": {},
   "outputs": [],
   "source": [
    "import MetaTrader5 as mt5\n",
    "import time\n",
    "import pandas as pd\n",
    "from IPython.display import clear_output\n",
    "\n"
   ]
  },
  {
   "cell_type": "code",
   "execution_count": 3,
   "metadata": {},
   "outputs": [
    {
     "name": "stdout",
     "output_type": "stream",
     "text": [
      "conexion exitosa\n",
      "AccountInfo(login=87779686, trade_mode=0, leverage=100, limit_orders=200, margin_so_mode=0, trade_allowed=True, trade_expert=True, margin_mode=2, currency_digits=2, fifo_close=False, balance=99999.63, credit=0.0, profit=0.0, equity=99999.63, margin=0.0, margin_free=99999.63, margin_level=0.0, margin_so_call=50.0, margin_so_so=30.0, margin_initial=0.0, margin_maintenance=0.0, assets=0.0, liabilities=0.0, commission_blocked=0.0, name='Mariano Orozco', server='MetaQuotes-Demo', currency='USD', company='MetaQuotes Ltd.')\n"
     ]
    }
   ],
   "source": [
    "# Nos conectamos con MTD5\n",
    "if not mt5.initialize():\n",
    "    print(\"error en la conexion\")\n",
    "    exit()\n",
    "else:\n",
    "    print(\"conexion exitosa\")\n",
    "    print(mt5.account_info())"
   ]
  },
  {
   "cell_type": "code",
   "execution_count": 4,
   "metadata": {},
   "outputs": [],
   "source": [
    "# Función para enviar órdenes de compra\n",
    "def buy(symbol, volume):\n",
    "    try:\n",
    "        sl = mt5.symbol_info_tick(symbol).ask * 0.15 \n",
    "        tp = mt5.symbol_info_tick(symbol).ask * 10\n",
    "        order_type = mt5.ORDER_TYPE_BUY\n",
    "        request = {\n",
    "            \"action\": mt5.TRADE_ACTION_DEAL,\n",
    "            \"symbol\": symbol,\n",
    "            \"volume\": volume,\n",
    "            \"type\": order_type,\n",
    "            \"price\": mt5.symbol_info_tick(symbol).ask,\n",
    "            \"sl\": sl,\n",
    "            \"tp\": tp,\n",
    "            \"deviation\": 10,\n",
    "            \"magic\": 123456,\n",
    "            \"comment\": \"Buy order\",\n",
    "            \"type_time\": mt5.ORDER_TIME_GTC,\n",
    "            \"type_filling\": mt5.ORDER_FILLING_IOC,\n",
    "        }\n",
    "        result = mt5.order_send(request)\n",
    "        return result\n",
    "    except Exception as buy:\n",
    "        print(buy)\n",
    "# probando\n",
    "\n",
    "symbol = \"EURUSD\"\n",
    "volume = 0.1  # Ajusta el volumen según tus necesidades\n",
    "\n",
    "previous_signal = None  # Variable para almacenar el estado anteri\n",
    "result = buy(symbol, volume)\n",
    "if result is None:\n",
    "    print ( mt5.last_error())"
   ]
  },
  {
   "cell_type": "code",
   "execution_count": 8,
   "metadata": {},
   "outputs": [
    {
     "ename": "UnboundLocalError",
     "evalue": "cannot access local variable 'position' where it is not associated with a value",
     "output_type": "error",
     "traceback": [
      "\u001b[1;31m---------------------------------------------------------------------------\u001b[0m",
      "\u001b[1;31mUnboundLocalError\u001b[0m                         Traceback (most recent call last)",
      "Cell \u001b[1;32mIn[8], line 33\u001b[0m\n\u001b[0;32m     31\u001b[0m                 \u001b[38;5;28;01melse\u001b[39;00m:\n\u001b[0;32m     32\u001b[0m                     \u001b[38;5;28mprint\u001b[39m(\u001b[38;5;124m\"\u001b[39m\u001b[38;5;124mOperación cerrada con éxito:\u001b[39m\u001b[38;5;124m\"\u001b[39m, result)\n\u001b[1;32m---> 33\u001b[0m \u001b[43mfinish_order\u001b[49m\u001b[43m(\u001b[49m\u001b[43m)\u001b[49m\n",
      "Cell \u001b[1;32mIn[8], line 4\u001b[0m, in \u001b[0;36mfinish_order\u001b[1;34m()\u001b[0m\n\u001b[0;32m      1\u001b[0m \u001b[38;5;28;01mdef\u001b[39;00m \u001b[38;5;21mfinish_order\u001b[39m():\n\u001b[0;32m      2\u001b[0m     \u001b[38;5;66;03m# Obtener todas las posiciones abiertas\u001b[39;00m\n\u001b[0;32m      3\u001b[0m     positions \u001b[38;5;241m=\u001b[39m mt5\u001b[38;5;241m.\u001b[39mpositions_get()\n\u001b[1;32m----> 4\u001b[0m     \u001b[38;5;28mprint\u001b[39m(\u001b[43mposition\u001b[49m)\n\u001b[0;32m      5\u001b[0m     \u001b[38;5;28;01mif\u001b[39;00m positions \u001b[38;5;129;01mis\u001b[39;00m \u001b[38;5;28;01mNone\u001b[39;00m:\n\u001b[0;32m      6\u001b[0m         \u001b[38;5;28mprint\u001b[39m(\u001b[38;5;124m\"\u001b[39m\u001b[38;5;124mNo hay posiciones abiertas.\u001b[39m\u001b[38;5;124m\"\u001b[39m)\n",
      "\u001b[1;31mUnboundLocalError\u001b[0m: cannot access local variable 'position' where it is not associated with a value"
     ]
    }
   ],
   "source": [
    "def finish_order():\n",
    "    # Obtener todas las posiciones abiertas\n",
    "    positions = mt5.positions_get()\n",
    "    print(position)\n",
    "    if positions is None:\n",
    "        print(\"No hay posiciones abiertas.\")\n",
    "    else:\n",
    "        for position in positions:\n",
    "            # Imprimir información de cada posición\n",
    "            print(f\"Símbolo: {position.symbol}, Volumen: {position.volume}, Tipo: {'Compra' if position.type == 0 else 'Venta'}\")\n",
    "\n",
    "            # Si deseas cerrar una posición de venta\n",
    "            if position.type == 1:  # 1 es para ventas\n",
    "                request = {\n",
    "                    \"action\": mt5.TRADE_ACTION_DEAL,\n",
    "                    \"symbol\": position.symbol,\n",
    "                    \"volume\": position.volume,\n",
    "                    \"type\": mt5.ORDER_TYPE_BUY,  # Para cerrar una venta, envías una compra\n",
    "                    \"position\": position.ticket,  # Ticket de la posición que deseas cerrar\n",
    "                    \"deviation\": 10,\n",
    "                    \"magic\": 123456,\n",
    "                    \"comment\": \"Cierre de operación\",\n",
    "                    \"type_time\": mt5.ORDER_TIME_GTC,\n",
    "                    \"type_filling\": mt5.ORDER_FILLING_IOC,\n",
    "                }\n",
    "\n",
    "                result = mt5.order_send(request)\n",
    "\n",
    "                if result is None:\n",
    "                    print(\"Error al enviar la orden de cierre:\", mt5.last_error())\n",
    "                else:\n",
    "                    print(\"Operación cerrada con éxito:\", result)\n",
    "finish_order()\n"
   ]
  },
  {
   "cell_type": "code",
   "execution_count": 6,
   "metadata": {},
   "outputs": [],
   "source": [
    "\n",
    "symbol = \"EURUSD\"\n",
    "volume = 0.1  # Ajusta el volumen según tus necesidades\n",
    "\n",
    "previous_signal = None  # Variable para almacenar el estado anterior\n"
   ]
  },
  {
   "cell_type": "code",
   "execution_count": 7,
   "metadata": {},
   "outputs": [
    {
     "name": "stdout",
     "output_type": "stream",
     "text": [
      "medida 14 1.0872035714285715\n",
      "Medida 50 1.0872036\n",
      "Finalizando compras\n"
     ]
    },
    {
     "ename": "UnboundLocalError",
     "evalue": "cannot access local variable 'position' where it is not associated with a value",
     "output_type": "error",
     "traceback": [
      "\u001b[1;31m---------------------------------------------------------------------------\u001b[0m",
      "\u001b[1;31mUnboundLocalError\u001b[0m                         Traceback (most recent call last)",
      "Cell \u001b[1;32mIn[7], line 47\u001b[0m\n\u001b[0;32m     45\u001b[0m \u001b[38;5;28;01melif\u001b[39;00m last_sma_14 \u001b[38;5;241m<\u001b[39m last_sma_50 \u001b[38;5;129;01mand\u001b[39;00m previous_signal \u001b[38;5;241m!=\u001b[39m \u001b[38;5;124m'\u001b[39m\u001b[38;5;124msell\u001b[39m\u001b[38;5;124m'\u001b[39m:\n\u001b[0;32m     46\u001b[0m     \u001b[38;5;28mprint\u001b[39m(\u001b[38;5;124m\"\u001b[39m\u001b[38;5;124mFinalizando compras\u001b[39m\u001b[38;5;124m\"\u001b[39m)\n\u001b[1;32m---> 47\u001b[0m     \u001b[43mfinish_order\u001b[49m\u001b[43m(\u001b[49m\u001b[43m)\u001b[49m\n\u001b[0;32m     48\u001b[0m     previous_signal \u001b[38;5;241m=\u001b[39m \u001b[38;5;124m'\u001b[39m\u001b[38;5;124msell\u001b[39m\u001b[38;5;124m'\u001b[39m\n\u001b[0;32m     50\u001b[0m time\u001b[38;5;241m.\u001b[39msleep(\u001b[38;5;241m2\u001b[39m)\n",
      "Cell \u001b[1;32mIn[5], line 4\u001b[0m, in \u001b[0;36mfinish_order\u001b[1;34m()\u001b[0m\n\u001b[0;32m      1\u001b[0m \u001b[38;5;28;01mdef\u001b[39;00m \u001b[38;5;21mfinish_order\u001b[39m():\n\u001b[0;32m      2\u001b[0m     \u001b[38;5;66;03m# Obtener todas las posiciones abiertas\u001b[39;00m\n\u001b[0;32m      3\u001b[0m     positions \u001b[38;5;241m=\u001b[39m mt5\u001b[38;5;241m.\u001b[39mpositions_get()\n\u001b[1;32m----> 4\u001b[0m     \u001b[38;5;28mprint\u001b[39m(\u001b[43mposition\u001b[49m)\n\u001b[0;32m      5\u001b[0m     \u001b[38;5;28;01mif\u001b[39;00m positions \u001b[38;5;129;01mis\u001b[39;00m \u001b[38;5;28;01mNone\u001b[39;00m:\n\u001b[0;32m      6\u001b[0m         \u001b[38;5;28mprint\u001b[39m(\u001b[38;5;124m\"\u001b[39m\u001b[38;5;124mNo hay posiciones abiertas.\u001b[39m\u001b[38;5;124m\"\u001b[39m)\n",
      "\u001b[1;31mUnboundLocalError\u001b[0m: cannot access local variable 'position' where it is not associated with a value"
     ]
    }
   ],
   "source": [
    "while True:\n",
    "    # Obtiene los datos en tiempo real\n",
    "    rates = mt5.copy_rates_from_pos(symbol, mt5.TIMEFRAME_M1, 0, 1000)\n",
    "    if rates is None:\n",
    "        print(\"Error al obtener datos.\")\n",
    "        break\n",
    "    \n",
    "    # Convierte los datos a un DataFrame\n",
    "    data = pd.DataFrame(rates)\n",
    "    data['time'] = pd.to_datetime(data['time'], unit='s')\n",
    "    data.set_index('time', inplace=True)\n",
    "\n",
    "    # Calcula las medias móviles\n",
    "    data['SMA_14'] = data['close'].rolling(window=14).mean()\n",
    "    data['SMA_50'] = data['close'].rolling(window=50).mean()\n",
    "\n",
    "\n",
    "    # Extraemos los datos para verificar \n",
    "    # data.to_excel(\"probando.xlsx\", engine=\"openpyxl\")\n",
    "\n",
    "    # Obtiene las últimas medias móviles\n",
    "    last_sma_14 = data['SMA_14'].iloc[-1]\n",
    "    last_sma_50 = data['SMA_50'].iloc[-1]\n",
    "\n",
    "    # imprimimos los datos obtenidos\n",
    "    print(\"medida 14\", last_sma_14)\n",
    "\n",
    "    print(\"Medida 50\", last_sma_50)\n",
    "    # Determina el cruce\n",
    "    \n",
    "    \n",
    "    \n",
    "    ######  Apenas ejecutemos el script corroborar si el precio esta en posicion de compra o venta\n",
    "    # en el caso de que este en posicion de compra no tocar nada y en el caso de que este en posicion\n",
    "    # de venta cambiar el valor del previous_signal a \"sell\" para que no realice ninguna venta\n",
    "    if previous_signal is None:\n",
    "        previous_signal = 'none'\n",
    "    \n",
    "    if last_sma_14 > last_sma_50 and previous_signal != 'buy':\n",
    "        print(\"Cruce de compra detectado. Realizando compra...\")\n",
    "        buy(symbol, volume)\n",
    "        previous_signal = 'buy'\n",
    "\n",
    "        \n",
    "    elif last_sma_14 < last_sma_50 and previous_signal != 'sell':\n",
    "        print(\"Finalizando compras\")\n",
    "        finish_order()\n",
    "        previous_signal = 'sell'\n",
    "\n",
    "    time.sleep(2)\n",
    "        # obtenemos el saldo actua\n",
    "    print(\"\\nEn transaccion\")\n",
    "\n",
    "    # tiempo de espera antes de volver a comprobar\n",
    "    time.sleep(10)\n",
    "    clear_output(wait=True)\n",
    "\n",
    "\n",
    "# Cierra la conexión con MetaTrader 5\n",
    "mt5.shutdown()\n"
   ]
  }
 ],
 "metadata": {
  "kernelspec": {
   "display_name": "Python 3",
   "language": "python",
   "name": "python3"
  },
  "language_info": {
   "codemirror_mode": {
    "name": "ipython",
    "version": 3
   },
   "file_extension": ".py",
   "mimetype": "text/x-python",
   "name": "python",
   "nbconvert_exporter": "python",
   "pygments_lexer": "ipython3",
   "version": "3.12.5"
  }
 },
 "nbformat": 4,
 "nbformat_minor": 2
}
